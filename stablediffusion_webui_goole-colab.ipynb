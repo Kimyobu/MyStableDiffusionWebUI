{
 "cells": [
  {
   "cell_type": "code",
   "execution_count": null,
   "metadata": {},
   "outputs": [],
   "source": [
    "!git clone https://github.com/AUTOMATIC1111/stable-diffusion-webui.git\n",
    "%cd /content/stable-diffusion-webui\n",
    "!rm -r requirements.txt\n",
    "!apt-get -y install -qq aria2\n",
    "!aria2c --console-log-level=error -c -x 16 -s 16 -k 1M https://raw.githubusercontent.com/Kimyobu/MyStableDiffusionWebUI/main/requirements.txt\n",
    "!pip install --upgrade fastapi\n",
    "!apt install libcairo2-dev pkg-config python3-dev\n",
    "!pip install svglib\n",
    "!pip install torchmetrics==0.11.0\n",
    "# Web UI tunnel\n",
    "!COMMANDLINE_ARGS=\"--share --no-half-vae --xformers --enable-insecure-extension- --theme dark --gradio-queue\" REQS_FILE=\"requirements.txt\" python launch.py"
   ]
  }
 ],
 "metadata": {
  "language_info": {
   "name": "python"
  },
  "orig_nbformat": 4
 },
 "nbformat": 4,
 "nbformat_minor": 2
}
