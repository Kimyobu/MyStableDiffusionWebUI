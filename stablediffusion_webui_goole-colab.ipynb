{
 "cells": [
  {
   "cell_type": "code",
   "execution_count": null,
   "metadata": {},
   "outputs": [],
   "source": [
    "!git clone https://github.com/AUTOMATIC1111/stable-diffusion-webui.git\n",
    "%cd /content/stable-diffusion-webui\n",
    "%echo '' > requirements.txt"
   ]
  }
 ],
 "metadata": {
  "language_info": {
   "name": "python"
  },
  "orig_nbformat": 4
 },
 "nbformat": 4,
 "nbformat_minor": 2
}
